{
  "nbformat": 4,
  "nbformat_minor": 0,
  "metadata": {
    "colab": {
      "name": "Untitled2.ipynb",
      "provenance": [],
      "include_colab_link": true
    },
    "kernelspec": {
      "name": "python3",
      "display_name": "Python 3"
    }
  },
  "cells": [
    {
      "cell_type": "markdown",
      "metadata": {
        "id": "view-in-github",
        "colab_type": "text"
      },
      "source": [
        "<a href=\"https://colab.research.google.com/github/J-Chaudhary/comSimRepo/blob/main/assignment2.ipynb\" target=\"_parent\"><img src=\"https://colab.research.google.com/assets/colab-badge.svg\" alt=\"Open In Colab\"/></a>"
      ]
    },
    {
      "cell_type": "code",
      "metadata": {
        "id": "3kzOU9Yur3KC",
        "colab": {
          "base_uri": "https://localhost:8080/",
          "height": 541
        },
        "outputId": "539e5a31-5b5c-40c5-c8bd-849ee1367ca3"
      },
      "source": [
        "import numpy as np\n",
        "import matplotlib.pyplot as plt\n",
        "\n",
        "water_demand = np.array([20, 29, 39, 49, 59, 69, 79, 89, 100])\n",
        "q = np.array([0, 0.31, 0.42, 0.68, 0.83, 0.85, 0.97, 0.98, 1.00])\n",
        "m = np.zeros((water_demand.size-1))\n",
        "b = np.zeros((water_demand.size-1))\n",
        "\n",
        "for i in np.arange(water_demand.size-1):\n",
        "  m[i] = (q[i+1] - q[i]) / (water_demand[i+1] - water_demand[i])\n",
        "  b[i] = q[i] - m[i] * water_demand[i]\n",
        "  print (f'{i+1}  {m[i]:4.2f} {b[i]:4.1f}')\n",
        "\n",
        "minv = 1.0/m\n",
        "binv = -b/m\n",
        "\n",
        "for i in np.arange(water_demand.size-1):\n",
        "  print(\"{:1d}  {:6.2f}  {:6.2f}\".format(i+1, minv[i], binv[i]))\n",
        "\n",
        "N=100000\n",
        "randompvals = np.random.uniform(size=N)\n",
        "randomages = np.zeros((N))\n",
        "for i in np.arange(N):\n",
        "  p = randompvals[i]\n",
        "\n",
        "  if 0.00 <= p < 0.31:\n",
        "    intvl = 1\n",
        "  elif 0.31 <= p < 0.42:\n",
        "    intvl = 2\n",
        "  elif 0.42 <= p < 0.68:\n",
        "    intvl = 3\n",
        "  elif 0.68 <= p < 0.83:\n",
        "    intvl = 4\n",
        "  elif 0.83 <= p < 0.85:\n",
        "    intvl = 5\n",
        "  elif 0.85 <= p < 0.97:\n",
        "    intvl = 6\n",
        "  elif 0.97 <= p < 0.98:\n",
        "    intvl = 7\n",
        "  else :\n",
        "    intvl = 8\n",
        "  randomages[i] = minv[intvl-1]*p + binv[intvl-1]\n",
        "\n",
        "plt.hist (randomages, bins = 8)\n",
        "plt.show()\n"
      ],
      "execution_count": null,
      "outputs": [
        {
          "output_type": "stream",
          "text": [
            "1  0.03 -0.7\n",
            "2  0.01 -0.0\n",
            "3  0.03 -0.6\n",
            "4  0.01 -0.1\n",
            "5  0.00  0.7\n",
            "6  0.01  0.0\n",
            "7  0.00  0.9\n",
            "8  0.00  0.8\n",
            "1   29.03   20.00\n",
            "2   90.91    0.82\n",
            "3   38.46   22.85\n",
            "4   66.67    3.67\n",
            "5  500.00  -356.00\n",
            "6   83.33   -1.83\n",
            "7  1000.00  -891.00\n",
            "8  550.00  -450.00\n"
          ],
          "name": "stdout"
        },
        {
          "output_type": "display_data",
          "data": {
            "image/png": "[encoded data removed]",
            "text/plain": [
              "<Figure size 432x288 with 1 Axes>"
            ]
          },
          "metadata": {
            "tags": []
          }
        }
      ]
    }
  ]
}